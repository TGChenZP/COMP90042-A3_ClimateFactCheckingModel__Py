{
 "cells": [
  {
   "attachments": {},
   "cell_type": "markdown",
   "metadata": {},
   "source": [
    "# 2 Train Dev Test split\n",
    "\n",
    "I split the train set further into my own labelled test set, of same size as develop set, as I like to have an extra set to evaluate the performance of my model beyond the dev set, which just selects the best parameters\n",
    "\n",
    "- from now on: the original test set will be referred to as future set; the new test set (split off from train), which has labels, will be referred to as test set"
   ]
  },
  {
   "cell_type": "code",
   "execution_count": 2,
   "metadata": {},
   "outputs": [
    {
     "name": "stderr",
     "output_type": "stream",
     "text": [
      "/Applications/anaconda3/lib/python3.9/site-packages/scipy/__init__.py:146: UserWarning: A NumPy version >=1.16.5 and <1.23.0 is required for this version of SciPy (detected version 1.24.3\n",
      "  warnings.warn(f\"A NumPy version >={np_minversion} and <{np_maxversion}\"\n"
     ]
    }
   ],
   "source": [
    "import json\n",
    "from sklearn.model_selection import train_test_split"
   ]
  },
  {
   "cell_type": "code",
   "execution_count": 3,
   "metadata": {},
   "outputs": [],
   "source": [
    "with open ('../data/raw/train-claims.json') as f:\n",
    "    train_claims = json.load(f)"
   ]
  },
  {
   "cell_type": "code",
   "execution_count": 4,
   "metadata": {},
   "outputs": [],
   "source": [
    "with open ('../data/raw/dev-claims.json') as f:\n",
    "    dev_claims = json.load(f)"
   ]
  },
  {
   "cell_type": "code",
   "execution_count": 5,
   "metadata": {},
   "outputs": [],
   "source": [
    "# test size 154 because that is dev set size\n",
    "\n",
    "train_data_index, test_data_index = train_test_split(list(train_claims), test_size=154, random_state = 19260817)"
   ]
  },
  {
   "cell_type": "code",
   "execution_count": 6,
   "metadata": {},
   "outputs": [],
   "source": [
    "train_data = {index:train_claims[index] for index in train_data_index}\n",
    "test_data = {index:train_claims[index] for index in test_data_index}"
   ]
  },
  {
   "attachments": {},
   "cell_type": "markdown",
   "metadata": {},
   "source": [
    "# 0R"
   ]
  },
  {
   "cell_type": "code",
   "execution_count": 7,
   "metadata": {},
   "outputs": [],
   "source": [
    "# label them as '2' because they are not the original versions\n",
    "with open('../data/curated/train_claims2.json', 'w') as f:\n",
    "    json.dump(train_data, f)\n",
    "\n",
    "with open('../data/curated/test_claims2.json', 'w') as f:\n",
    "    json.dump(test_data, f)"
   ]
  },
  {
   "cell_type": "code",
   "execution_count": 8,
   "metadata": {},
   "outputs": [
    {
     "name": "stdout",
     "output_type": "stream",
     "text": [
      "defaultdict(<class 'int'>, {'SUPPORTS': 458, 'NOT_ENOUGH_INFO': 334, 'DISPUTED': 107, 'REFUTES': 175})\n",
      "defaultdict(<class 'int'>, {'SUPPORTS': 68, 'NOT_ENOUGH_INFO': 41, 'REFUTES': 27, 'DISPUTED': 18})\n",
      "defaultdict(<class 'int'>, {'NOT_ENOUGH_INFO': 52, 'SUPPORTS': 61, 'REFUTES': 24, 'DISPUTED': 17})\n"
     ]
    }
   ],
   "source": [
    "from collections import defaultdict as dd\n",
    "\n",
    "train_tally = dd(int)\n",
    "for doc in train_data:\n",
    "\n",
    "    train_tally[train_data[doc]['claim_label']] += 1\n",
    "\n",
    "print(train_tally)\n",
    "\n",
    "\n",
    "dev_tally = dd(int)\n",
    "for doc in dev_claims:\n",
    "    dev_tally[dev_claims[doc]['claim_label']] += 1\n",
    "\n",
    "print(dev_tally)\n",
    "\n",
    "\n",
    "test_tally = dd(int)\n",
    "for doc in test_data:\n",
    "    test_tally[test_data[doc]['claim_label']] += 1\n",
    "\n",
    "print(test_tally)"
   ]
  },
  {
   "cell_type": "code",
   "execution_count": null,
   "metadata": {},
   "outputs": [],
   "source": []
  }
 ],
 "metadata": {
  "kernelspec": {
   "display_name": "base",
   "language": "python",
   "name": "python3"
  },
  "language_info": {
   "codemirror_mode": {
    "name": "ipython",
    "version": 3
   },
   "file_extension": ".py",
   "mimetype": "text/x-python",
   "name": "python",
   "nbconvert_exporter": "python",
   "pygments_lexer": "ipython3",
   "version": "3.9.7"
  },
  "orig_nbformat": 4
 },
 "nbformat": 4,
 "nbformat_minor": 2
}
