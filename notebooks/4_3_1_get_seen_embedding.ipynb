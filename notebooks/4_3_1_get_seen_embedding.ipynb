{
 "cells": [
  {
   "attachments": {},
   "cell_type": "markdown",
   "metadata": {},
   "source": [
    "# 4.3.1 Get Seen Evidences' embeddings from SBERT's full evidence embedding list"
   ]
  },
  {
   "cell_type": "code",
   "execution_count": 1,
   "metadata": {},
   "outputs": [],
   "source": [
    "import json"
   ]
  },
  {
   "cell_type": "code",
   "execution_count": 2,
   "metadata": {},
   "outputs": [],
   "source": [
    "with open ('./drive/My Drive/LAB/COMP90042 A3/data/raw/train-claims.json') as f:\n",
    "    train_claims = json.load(f)\n",
    "\n",
    "with open ('./drive/My Drive/LAB/COMP90042 A3/data/raw/dev-claims.json') as f:\n",
    "    dev_claims = json.load(f)\n",
    "\n"
   ]
  },
  {
   "cell_type": "code",
   "execution_count": 3,
   "metadata": {},
   "outputs": [],
   "source": [
    "seen_evidence = set()\n",
    "\n",
    "for claim in train_claims:\n",
    "    for evid in train_claims[claim]['evidences']:\n",
    "        seen_evidence.add(evid)\n",
    "\n",
    "for claim in dev_claims:\n",
    "    for evid in dev_claims[claim]['evidences']:\n",
    "        seen_evidence.add(evid)\n",
    "\n",
    "seen_evidence = list(seen_evidence)"
   ]
  },
  {
   "cell_type": "code",
   "execution_count": null,
   "metadata": {},
   "outputs": [],
   "source": [
    "import os\n",
    "evid_embed_list = os.listdir('./drive/My Drive/LAB/COMP90042 A3/embeddings/evid_embedding')"
   ]
  },
  {
   "cell_type": "code",
   "execution_count": null,
   "metadata": {},
   "outputs": [],
   "source": [
    "seen_evid_embed = {}\n",
    "\n",
    "for evid_embed_dir in evid_embed_list:\n",
    "\n",
    "  with open(f'./drive/My Drive/LAB/COMP90042 A3/embeddings/evid_embedding/{evid_embed_dir}', 'r') as f:\n",
    "      evid_embed = json.load(f)\n",
    "\n",
    "  for evid in seen_evidence:\n",
    "      if evid in evid_embed:\n",
    "        seen_evid_embed[evid] = evid_embed[evid]"
   ]
  },
  {
   "cell_type": "code",
   "execution_count": null,
   "metadata": {},
   "outputs": [],
   "source": [
    "with open(f'./drive/My Drive/LAB/COMP90042 A3/embeddings/seen_evid_embed.json', 'w') as f:\n",
    "  json.dump(seen_evid_embed, f)"
   ]
  }
 ],
 "metadata": {
  "kernelspec": {
   "display_name": "base",
   "language": "python",
   "name": "python3"
  },
  "language_info": {
   "codemirror_mode": {
    "name": "ipython",
    "version": 3
   },
   "file_extension": ".py",
   "mimetype": "text/x-python",
   "name": "python",
   "nbconvert_exporter": "python",
   "pygments_lexer": "ipython3",
   "version": "3.9.7"
  },
  "orig_nbformat": 4
 },
 "nbformat": 4,
 "nbformat_minor": 2
}
